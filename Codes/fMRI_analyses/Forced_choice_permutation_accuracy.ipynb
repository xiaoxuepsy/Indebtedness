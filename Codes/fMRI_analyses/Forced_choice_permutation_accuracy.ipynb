{
 "cells": [
  {
   "cell_type": "code",
   "execution_count": null,
   "metadata": {},
   "outputs": [],
   "source": [
    "def forced_choice_permutation_accuracy(data1, data2, model, n_permutations=10000, metric='correlation'):\n",
    "    '''Compute one-tailed p-values for forced choice accuracy using permutation test\n",
    "    \n",
    "    Args:\n",
    "        data1: (Brain_Data) Brain_Data instance of Condition1(must be same subject order across conditions)\n",
    "        data2: (Brain_Data) Brain_Data instance of Condition2 (must be same subject order across conditions)\n",
    "        model: (Brain_Data) Brain_Data instance of model to test on each condition\n",
    "        n_permutations: (int) Number of permutations to run, default 10,000\n",
    "        \n",
    "    Returns:\n",
    "        dict: Dictionary with accuracy, one-tailed p-value, and null distribution\n",
    "    '''\n",
    "    \n",
    "    if len(data1) != len(data1):\n",
    "        raise ValueError('Conditions have a different number of subjects.')\n",
    "        \n",
    "    pexp = pd.DataFrame({'Condition1':data1.similarity(model, method=metric), \n",
    "                         'Condition2':data2.similarity(model, method=metric)})\n",
    "    accuracy = np.mean(pexp['Condition1'] > pexp['Condition2'])\n",
    "    null = []\n",
    "    for iteration in range(n_permutations):\n",
    "        null_iteration = []\n",
    "        for i in range(len(pexp)):\n",
    "            choice = np.random.choice([0,1])\n",
    "            null_iteration.append(pexp.iloc[i, choice] > pexp.iloc[i, 1-choice])\n",
    "        null.append(np.mean(null_iteration))\n",
    "    p = 1 - np.mean(accuracy > null)\n",
    "    return {'accuracy':accuracy, 'p':p, 'null':null, 'pattern_similarity':pexp}"
   ]
  }
 ],
 "metadata": {
  "kernelspec": {
   "display_name": "Python 3",
   "language": "python",
   "name": "python3"
  },
  "language_info": {
   "codemirror_mode": {
    "name": "ipython",
    "version": 3
   },
   "file_extension": ".py",
   "mimetype": "text/x-python",
   "name": "python",
   "nbconvert_exporter": "python",
   "pygments_lexer": "ipython3",
   "version": "3.8.3"
  }
 },
 "nbformat": 4,
 "nbformat_minor": 4
}
